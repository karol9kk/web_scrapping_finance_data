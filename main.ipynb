{
 "cells": [
  {
   "cell_type": "code",
   "execution_count": 2,
   "metadata": {},
   "outputs": [],
   "source": [
    "from nlp_function import sentiment_with_date_and_org,get_results"
   ]
  },
  {
   "cell_type": "code",
   "execution_count": 1,
   "metadata": {},
   "outputs": [
    {
     "name": "stdout",
     "output_type": "stream",
     "text": [
      "WARNING:tensorflow:From c:\\Users\\karol\\AppData\\Local\\Programs\\Python\\Python310\\lib\\site-packages\\keras\\src\\losses.py:2976: The name tf.losses.sparse_softmax_cross_entropy is deprecated. Please use tf.compat.v1.losses.sparse_softmax_cross_entropy instead.\n",
      "\n"
     ]
    },
    {
     "name": "stderr",
     "output_type": "stream",
     "text": [
      "c:\\Users\\karol\\AppData\\Local\\Programs\\Python\\Python310\\lib\\site-packages\\huggingface_hub\\file_download.py:1132: FutureWarning: `resume_download` is deprecated and will be removed in version 1.0.0. Downloads always resume when possible. If you want to force a new download, use `force_download=True`.\n",
      "  warnings.warn(\n"
     ]
    },
    {
     "name": "stdout",
     "output_type": "stream",
     "text": [
      "The Nasdaq Composite rose more than 1%, while the S&P 500 was near flat. The Dow Jones Industrial Average (^DJI) fell more than 2%. All three indexes were still near record highs.\n",
      "Nasdaq Composite\n",
      "negative\n",
      "('2024-05-26', '^IXIC', -0.9497280716896057)\n",
      "The Economic Innovation Group's (EIG) Distressed Communities Index shows that as of 2023, local economies across America still hadn't fully recovered from the effects of the COVID-19 pandemic. According to EIG, which\n",
      "Economic Innovation Group\n",
      "negative\n",
      "('2024-05-27', 'EIG', -0.9965823292732239)\n",
      "European shares struggled for traction in thin trading. The Stoxx Europe 600 index was little changed. Turnover was less than half the 20-day average for the time of day. American equity futures and the dollar were steady.\n",
      "Stoxx Europe 600 index\n",
      "negative\n",
      "('2024-05-27', 'SXXP', -0.9934467673301697)\n",
      "Net Zero Industry Act (NZIA) will enter force next month or early July. EU has set a 2030 target of producing 40% of the products it needs to reduc. China is forecast to have 80% of global manufacturing capacity\n",
      "finance index name\n",
      "neutral\n",
      "('2024-05-27', 'no_data', 0.9998859167098999)\n",
      "From cocoa to zinc, the breadth of the commodities rally is the biggest in two years. Beef and pork are showing promising signs of improving demand. OPEC+’s policy meeting to review oil output curbs is set for June 2\n",
      "commodities\n",
      "positive\n",
      "('2024-05-26', 'no_data', 0.9996904134750366)\n",
      "Starbucks faces stiff competition for its brew in China from fast-growing, low-cost rivals. The coffee chain is increasingly being dragged into a price war it says it wants to avoid.\n",
      "Starbucks\n",
      "negative\n",
      "('2024-05-27', 'SBUX', -0.9935053586959839)\n",
      "Brazil has overtaken Belgium as the largest export market for Chinese new energy vehicles. Exports of pure electric and plug-in hybrid cars to Brazil soared 13-fold year-on-year to 40,163 units.\n",
      "The text is about \"China\"\n",
      "positive\n",
      "('2024-05-27', 'no_data', 0.9996793270111084)\n",
      "Bets on more Ether gains are intensifying following a surprise US regulatory pivot. The shift by the US Securities & Exchange Commission catalyzed a 26% jump in the second-largest token. Speculators may be taking heart from the\n",
      "Ether\n",
      "positive\n",
      "('2024-05-27', 'No_data', 0.9996613264083862)\n",
      "Target, Walmart and other chains have rolled out price cuts. The reductions are getting introduced as inflation showed its first sign of easing this year. The latest quarterly earnings reported by Walmart, Macy's and Ralph Lauren.\n",
      "Walmart\n",
      "positive\n",
      "('2024-05-27', 'WMT', 0.9813597202301025)\n",
      "Mehmet Simsek’s pitch is simple: “rational” policies are back in Turkey. That should make the country�'s lira debt a sound bet for the world's money managers. It’\n",
      "lira\n",
      "positive\n",
      "('2024-05-27', 'No_data', 0.9993919134140015)\n",
      "MySQL Database connection successful\n",
      "Query successful\n",
      "('2024-05-26', '^IXIC', -0.9497280716896057)\n",
      "('2024-05-27', 'EIG', -0.9965823292732239)\n",
      "('2024-05-27', 'SXXP', -0.9934467673301697)\n",
      "('2024-05-27', 'SBUX', -0.9935053586959839)\n",
      "('2024-05-27', 'WMT', 0.9813597202301025)\n"
     ]
    }
   ],
   "source": [
    "from nlp_function import main\n",
    "url = \"https://finance.yahoo.com/\"\n",
    "db_params = (\"localhost\", \"Karol\", \"sqlserwer1\", \"projekt\")\n",
    "main(url, db_params)\n"
   ]
  },
  {
   "cell_type": "code",
   "execution_count": 2,
   "metadata": {},
   "outputs": [
    {
     "name": "stdout",
     "output_type": "stream",
     "text": [
      "MySQL Database connection successful\n",
      "(55, '2024-05-27', 'SBUX', -0.997861)\n",
      "(56, '2024-05-27', 'No_data', 0.998785)\n",
      "(57, '2024-05-26', '^IXIC', -0.949728)\n",
      "(58, '2024-05-27', 'EIG', -0.996582)\n",
      "(59, '2024-05-27', 'SXXP', -0.993447)\n",
      "(60, '2024-05-27', 'SBUX', -0.993505)\n",
      "(61, '2024-05-27', 'WMT', 0.98136)\n",
      "No results found.\n"
     ]
    }
   ],
   "source": [
    "from data_base_function import create_db_connection,execute_query\n",
    "connection=create_db_connection(\"localhost\",\"Karol\",\"sqlserwer1\",\"projekt\")\n",
    "\n",
    "query = \"SELECT * FROM sentiment_data;\"\n",
    "results=execute_query(connection, query)\n",
    "connection.close()\n",
    "\n",
    "if results==True:\n",
    "    for row in results:\n",
    "        print(row)\n",
    "else:\n",
    "    print(\"No results found.\")"
   ]
  }
 ],
 "metadata": {
  "kernelspec": {
   "display_name": "Python 3",
   "language": "python",
   "name": "python3"
  },
  "language_info": {
   "codemirror_mode": {
    "name": "ipython",
    "version": 3
   },
   "file_extension": ".py",
   "mimetype": "text/x-python",
   "name": "python",
   "nbconvert_exporter": "python",
   "pygments_lexer": "ipython3",
   "version": "3.10.6"
  }
 },
 "nbformat": 4,
 "nbformat_minor": 2
}
