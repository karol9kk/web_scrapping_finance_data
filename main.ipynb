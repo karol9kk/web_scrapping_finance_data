{
 "cells": [
  {
   "cell_type": "code",
   "execution_count": 19,
   "metadata": {},
   "outputs": [],
   "source": [
    "from nlp_function import sentiment_with_date_and_org"
   ]
  },
  {
   "cell_type": "code",
   "execution_count": 20,
   "metadata": {},
   "outputs": [
    {
     "name": "stderr",
     "output_type": "stream",
     "text": [
      "No model was supplied, defaulted to sshleifer/distilbart-cnn-12-6 and revision a4f8f3e (https://huggingface.co/sshleifer/distilbart-cnn-12-6).\n",
      "Using a pipeline without specifying a model name and revision in production is not recommended.\n",
      "No model was supplied, defaulted to dbmdz/bert-large-cased-finetuned-conll03-english and revision f2482bf (https://huggingface.co/dbmdz/bert-large-cased-finetuned-conll03-english).\n",
      "Using a pipeline without specifying a model name and revision in production is not recommended.\n",
      "Some weights of the model checkpoint at dbmdz/bert-large-cased-finetuned-conll03-english were not used when initializing BertForTokenClassification: ['bert.pooler.dense.bias', 'bert.pooler.dense.weight']\n",
      "- This IS expected if you are initializing BertForTokenClassification from the checkpoint of a model trained on another task or with another architecture (e.g. initializing a BertForSequenceClassification model from a BertForPreTraining model).\n",
      "- This IS NOT expected if you are initializing BertForTokenClassification from the checkpoint of a model that you expect to be exactly identical (initializing a BertForSequenceClassification model from a BertForSequenceClassification model).\n"
     ]
    },
    {
     "name": "stdout",
     "output_type": "stream",
     "text": [
      "Nvidia\n"
     ]
    }
   ],
   "source": [
    "url=\"https://finance.yahoo.com/news/nvidia-stock-retreats-from-record-high-ahead-of-crucial-first-quarter-earnings-report-133813203.html\"\n",
    "\n",
    "date,company,score=sentiment_with_date_and_org(url)\n",
    "print(company)\n",
    "\n"
   ]
  },
  {
   "cell_type": "markdown",
   "metadata": {},
   "source": [
    "Company names to symbols"
   ]
  },
  {
   "cell_type": "code",
   "execution_count": 21,
   "metadata": {},
   "outputs": [],
   "source": [
    "from web_scrapping_function import make_maping,replace_company_with_symbol\n",
    "\n",
    "# URL to fetch S&P 500 companies and their stock symbols (an example source)\n",
    "url = \"https://en.wikipedia.org/wiki/List_of_S%26P_500_companies\"\n",
    "\n",
    "mapping=make_maping(url)\n",
    "\n",
    "\n",
    "#replacing company name to symbol\n",
    "company=replace_company_with_symbol(company,mapping)\n"
   ]
  },
  {
   "cell_type": "code",
   "execution_count": 22,
   "metadata": {},
   "outputs": [
    {
     "name": "stdout",
     "output_type": "stream",
     "text": [
      "['2024-05-22', 'NVDA', 0.9995762705802917]\n"
     ]
    }
   ],
   "source": [
    "input_data=[date,company,score]\n",
    "print(input_data)\n"
   ]
  },
  {
   "cell_type": "code",
   "execution_count": 23,
   "metadata": {},
   "outputs": [],
   "source": [
    "#uniwersalne query\n",
    "query='''\n",
    "INSERT INTO news_data (news_date,company_name, sentiment_score)\n",
    "    VALUES (%s, %s, %s)\n",
    "'''"
   ]
  },
  {
   "cell_type": "code",
   "execution_count": 24,
   "metadata": {},
   "outputs": [
    {
     "name": "stdout",
     "output_type": "stream",
     "text": [
      "MySQL Database connection successful\n",
      "Query successful\n"
     ]
    }
   ],
   "source": [
    "from data_base_function import create_db_connection,execute_list_query,execute_query\n",
    "connection=create_db_connection(\"localhost\",\"Karol\",\"sqlserwer1\",\"projekt\")\n",
    "execute_list_query(connection,query,[input_data])"
   ]
  },
  {
   "cell_type": "code",
   "execution_count": 25,
   "metadata": {},
   "outputs": [
    {
     "name": "stdout",
     "output_type": "stream",
     "text": [
      "MySQL Database connection successful\n",
      "(1, datetime.date(2024, 5, 21), 'NVDA', 0.790052)\n",
      "(2, datetime.date(2024, 5, 21), 'NVDA', 0.790052)\n",
      "(3, datetime.date(2024, 5, 21), 'PEP', 0.998682)\n",
      "(4, datetime.date(2024, 5, 21), 'no_data', 0.884511)\n",
      "(5, datetime.date(2024, 5, 21), 'no_data', 0.99971)\n",
      "(6, datetime.date(2024, 5, 18), 'no_data', 0.998457)\n",
      "(7, datetime.date(2024, 5, 18), 'no_data', 0.998457)\n",
      "(8, datetime.date(2024, 5, 22), 'NVDA', 0.999576)\n"
     ]
    }
   ],
   "source": [
    "connection=create_db_connection(\"localhost\",\"Karol\",\"sqlserwer1\",\"projekt\")\n",
    "query = \"SELECT * FROM news_data;\"\n",
    "execute_query(connection, query)\n",
    "connection.close()"
   ]
  },
  {
   "cell_type": "code",
   "execution_count": 26,
   "metadata": {},
   "outputs": [
    {
     "name": "stdout",
     "output_type": "stream",
     "text": [
      "['https://finance.yahoo.com/news/us-existing-home-sales-fall-140156904.html', 'https://finance.yahoo.com/news/stock-market-today-us-stocks-little-changed-as-wait-for-nvidia-earnings-nears-its-end-112520546.html', 'https://finance.yahoo.com/news/target-earnings-miss-the-mark-as-inflation-battered-shoppers-avoid-buying-things-they-dont-really-need-103105766.html', 'https://finance.yahoo.com/news/amazon-investors-reject-14-outside-165015097.html', 'https://finance.yahoo.com/news/eu-automakers-slip-as-china-threatens-retaliatory-tariffs-on-luxury-cars-164941694.html', 'https://finance.yahoo.com/news/tiktok-turns-generative-ai-boost-140000757.html', 'https://finance.yahoo.com/news/apple-challenges-2-billion-eu-163212461.html', 'https://finance.yahoo.com/news/ftxs-bankman-fried-being-transferred-161903268.html', 'https://finance.yahoo.com/news/disney-said-sell-stake-tata-144738455.html', 'https://finance.yahoo.com/news/private-investment-firms-partner-potentially-172217978.html', 'https://finance.yahoo.com/news/argentine-black-market-peso-hits-170638311.html', 'https://finance.yahoo.com/news/us-lawmakers-advance-bill-easier-170049663.html', 'https://finance.yahoo.com/news/hedge-fund-caledonia-grapples-26-170000888.html', 'https://finance.yahoo.com/news/apple-27-app-store-fee-233908737.html', 'https://finance.yahoo.com/news/sunak-gambles-july-4-uk-161959421.html', 'https://finance.yahoo.com/news/pfizer-launches-multi-cost-cuts-165200060.html', 'https://finance.yahoo.com/news/deutsche-bahn-gathers-bids-15-165108327.html', 'https://finance.yahoo.com/news/trying-bamboozle-husband-wants-divorce-111300435.html', 'https://finance.yahoo.com/news/why-biden-almost-100-capital-140033617.html', 'https://finance.yahoo.com/news/jpmorgan-goldman-sachs-want-bankers-133133513.html', 'https://finance.yahoo.com/news/m-licensed-agent-car-insurance-190832354.html', 'https://finance.yahoo.com/m/0a17b9cd-15f4-3f46-af98-954a47be0588/foreign-purchase-of-u-s-ammo.html', 'https://finance.yahoo.com/research/reports/ARGUS_40076_MarketOutlook_1716376947000?yptr=yahoo&ncid=yahooproperties_plusresear_nm5q6ze1cei', 'https://finance.yahoo.com/news/average-american-faces-one-major-223713525.html', 'https://finance.yahoo.com/news/billionaire-stan-druckenmiller-sold-nvidia-124500757.html']\n"
     ]
    }
   ],
   "source": [
    "from web_scrapping_function import get_urls\n",
    "print(get_urls(\"https://finance.yahoo.com/\"))"
   ]
  }
 ],
 "metadata": {
  "kernelspec": {
   "display_name": "Python 3",
   "language": "python",
   "name": "python3"
  },
  "language_info": {
   "codemirror_mode": {
    "name": "ipython",
    "version": 3
   },
   "file_extension": ".py",
   "mimetype": "text/x-python",
   "name": "python",
   "nbconvert_exporter": "python",
   "pygments_lexer": "ipython3",
   "version": "3.10.6"
  }
 },
 "nbformat": 4,
 "nbformat_minor": 2
}
