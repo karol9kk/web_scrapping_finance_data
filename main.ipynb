{
 "cells": [
  {
   "cell_type": "code",
   "execution_count": 1,
   "metadata": {},
   "outputs": [
    {
     "name": "stdout",
     "output_type": "stream",
     "text": [
      "WARNING:tensorflow:From c:\\Users\\karol\\AppData\\Local\\Programs\\Python\\Python310\\lib\\site-packages\\keras\\src\\losses.py:2976: The name tf.losses.sparse_softmax_cross_entropy is deprecated. Please use tf.compat.v1.losses.sparse_softmax_cross_entropy instead.\n",
      "\n"
     ]
    },
    {
     "name": "stderr",
     "output_type": "stream",
     "text": [
      "c:\\Users\\karol\\AppData\\Local\\Programs\\Python\\Python310\\lib\\site-packages\\huggingface_hub\\file_download.py:1132: FutureWarning: `resume_download` is deprecated and will be removed in version 1.0.0. Downloads always resume when possible. If you want to force a new download, use `force_download=True`.\n",
      "  warnings.warn(\n"
     ]
    },
    {
     "name": "stdout",
     "output_type": "stream",
     "text": [
      "American Airlines (AAL) stock is getting hit in midday trade after the company announced the departure of Vasu Raja, its chief commercial officer. American said it now sees adjusted EPS for its current second quarter coming in between $1\n",
      "American Airlines\n",
      "negative\n",
      "('2024-05-29', 'AAL', -0.9977760910987854)\n",
      "Morgan Stanley analyst Benjamin Swinburne said he sees 30% upside based on current trading levels. He said Netflix is \"both a driver and beneficiary of industry disruption\" Netflix told advertisers earlier this month that its ad tier has reached 40\n",
      "Morgan Stanley\n",
      "positive\n",
      "('2024-05-29', 'MS', 0.999568521976471)\n",
      "Trump has pledged to limit or even stop sales of electric vehicles if elected to a second term in this year’s presidential race. A possible new Trump adviser — Tesla CEO Elon Musk — could help Trump freshen his thinking.\n",
      "Tesla\n",
      "neutral\n",
      "('2024-05-29', 'TSLA', 0.9987275004386902)\n",
      "Exxon Mobil stockholders sided with the company in its feud with activist investors and the nation's biggest public pension fund. The support for current directors was 95% of outstanding shares cast, although that was down slightly from 96% last year\n",
      "Exxon Mobil\n",
      "negative\n",
      "('2024-05-29', 'XOM', -0.9987837672233582)\n",
      "Marathon Oil shares jumped roughly 8% in Wednesday's trading. The merger follows a wave of consolidation over the past year. ExxonMobil recently closed on its $59.5 billion acquisition of Pioneer Natural Resources.\n",
      "Marathon Oil\n",
      "positive\n",
      "('2024-05-29', 'MRO', 0.9996359348297119)\n",
      "JPMorgan Chase & Co. CEO Jamie Dimon said he expects problems to emerge in private credit. Dimon warned that “there could be hell to pay,” particularly as retail clients gain access to the asset class.\n",
      "JPMorgan Chase & Co.\n",
      "negative\n",
      "('2024-05-29', 'JPM', -0.9973044395446777)\n",
      "U.S. economic activity continued to expand from early April through mid-May. But firms grew more pessimistic about the future. The jobs market continues to gradually cool back down toward more normalized levels.\n",
      "no data\n",
      "positive\n",
      "('2024-05-29', 'no_data', 0.9985659718513489)\n",
      "Call option trading jumped on Tuesday to the fourth-highest notional level. Nvidia shares trading at a record north of $1,100 apiece. The trading frenzy added fuel to stock market gains.\n",
      "Nvidia\n",
      "positive\n",
      "('2024-05-29', 'NVDA', 0.9996460676193237)\n",
      "The two have discussed ways for Musk to have \"formal input and influence\" over economic and border security policies. Musk informed Trump about his ongoing influence campaign aimed at convincing powerful U.S. business leaders not to support Joe Biden.\n",
      "no data\n",
      "neutral\n",
      "('2024-05-29', 'no_data', 0.9996798038482666)\n",
      "The settlement involves consumers who withdrew cash from bank-operated ATMs since 2007. Two other related class actions are pending in D.C. federal court. Visa will pay $104.6 million in the accord, and Mastercard will\n",
      "no data\n",
      "neutral\n",
      "('2024-05-29', 'no_data', 0.9998329877853394)\n",
      "Waystar Holding Corp.’s initial public offering would be the largest by a US company this year if it prices at the top of its range to raise $1.04 billion. When it comes to all IPOs on US\n",
      "no data\n",
      "neutral\n",
      "('2024-05-29', 'no_data', 0.999546229839325)\n",
      "The US sold $44 billion of seven-year notes at 4.650% — above the pre-auction level of 4.637%. That’s just a day after two other US offerings totaling $139 billion saw\n",
      "bond name\n",
      "neutral\n",
      "('2024-05-29', 'no_data', 0.9977065324783325)\n",
      "The botnet was spread across more than 190 countries. It enabled financial fraud, identity theft and access to child exploitation materials. Other violations tied to the botnet included bomb threats and cyberattacks.\n",
      "no data\n",
      "neutral\n",
      "('2024-05-29', 'no_data', 0.9996235370635986)\n",
      "The safety of seafarers is the priority for the maritime industry. Since Russia invaded Ukraine, the report noted sizable growth of Russia’s ‘shadow fleet’ of tankers.\n",
      "no data\n",
      "positive\n",
      "('2024-05-29', 'no_data', 0.9995450377464294)\n",
      "Illinois is closing the gap with its peers in the municipal-bond market. Investors herald the passing of an on-time budget and a broad improvement in the state's fiscal standing. The extra yield that investors demand on Illinois debt\n",
      "bond name\n",
      "positive\n",
      "('2024-05-29', 'no_data', 0.9996652603149414)\n",
      "Oil extended gains as another attack on a ship in the Red Sea added to heightened geopolitical tensions in the Middle East. Brent futures rose near $85 after ending 1.4% higher on Tuesday, while West Texas Intermediate traded above $80\n",
      "Oil\n",
      "positive\n",
      "('2024-05-29', 'No_data', 0.9996471405029297)\n",
      "Rich Davey will leave his position as head of New York City's subways and buses. He will return to Boston to oversee the Massachusetts Port Authority. Davey is slated to step into the role no later than Sept. 9.\n",
      "no data\n",
      "neutral\n",
      "('2024-05-29', 'no_data', 0.999862790107727)\n",
      "JPMorgan Chase & Co. CEO Jamie Dimon said he expects problems to emerge in private credit. Dimon warned that “there could be hell to pay,” particularly as retail clients gain access to the asset class.\n",
      "JPMorgan Chase & Co.\n",
      "negative\n",
      "('2024-05-29', 'JPM', -0.9973044395446777)\n"
     ]
    },
    {
     "name": "stderr",
     "output_type": "stream",
     "text": [
      "Your max_length is set to 50, but your input_length is only 32. Since this is a summarization task, where outputs shorter than the input are typically wanted, you might consider decreasing max_length manually, e.g. summarizer('...', max_length=16)\n"
     ]
    },
    {
     "name": "stdout",
     "output_type": "stream",
     "text": [
      "Nvidia is worth $2.6 trillion. The company invests in a number of high-tech companies. Nvidia has invested in Apple, Facebook, Microsoft, Google and others.\n",
      "Nvidia\n",
      "neutral\n",
      "('2024-05-29', 'NVDA', 0.9998724460601807)\n"
     ]
    },
    {
     "name": "stderr",
     "output_type": "stream",
     "text": [
      "Your max_length is set to 50, but your input_length is only 3. Since this is a summarization task, where outputs shorter than the input are typically wanted, you might consider decreasing max_length manually, e.g. summarizer('...', max_length=1)\n"
     ]
    },
    {
     "name": "stdout",
     "output_type": "stream",
     "text": [
      "CNN.com will feature iReporter photos in a weekly Travel Snapshots gallery. Please submit your best shots of New York for next week. Visit CNN.com/Travel next Wednesday for a new gallery of snapshots.\n",
      "no data\n",
      "neutral\n",
      "('Error', 'no_data', 0.9998672008514404)\n",
      "There are 13 states that don't tax retirement income. This could mean thousands of dollars' worth of annual savings. Other states could also prove tax-friendly to your personal situation.\n",
      "no data\n",
      "positive\n",
      "('2024-05-29', 'no_data', 0.9988665580749512)\n",
      "At 19, Ethan Thornton founded Mach Industries to replace traditional munitions with hydrogen-powered weaponry. Dropping out of MIT, he secured $85 million from investors. Former employees described a chaotic environment with safety issues and an inexperienced leadership style.\n",
      "Mach Industries\n",
      "negative\n",
      "('2024-05-29', 'no_data', -0.9940859079360962)\n"
     ]
    },
    {
     "name": "stderr",
     "output_type": "stream",
     "text": [
      "Your max_length is set to 50, but your input_length is only 3. Since this is a summarization task, where outputs shorter than the input are typically wanted, you might consider decreasing max_length manually, e.g. summarizer('...', max_length=1)\n"
     ]
    },
    {
     "name": "stdout",
     "output_type": "stream",
     "text": [
      "CNN.com will feature iReporter photos in a weekly Travel Snapshots gallery. Please submit your best shots of New York for next week. Visit CNN.com/Travel next Wednesday for a new gallery of snapshots.\n",
      "no data\n",
      "neutral\n",
      "('No datetime attribute found', 'no_data', 0.9998672008514404)\n",
      "Cathie Wood, co-founder, CEO, and widely followed stock picker at Ark Invest changed her tune coming out of the Memorial Day holiday weekend. Wood added to 10 of her existing positions. Some of the more interesting purchases for\n",
      "Ark Invest\n",
      "neutral\n",
      "('2024-05-29', 'ARKK', 0.9987627267837524)\n",
      "MySQL Database connection successful\n",
      "Query successful\n",
      "('2024-05-29', 'AAL', -0.9977760910987854)\n",
      "('2024-05-29', 'MS', 0.999568521976471)\n",
      "('2024-05-29', 'TSLA', 0.9987275004386902)\n",
      "('2024-05-29', 'XOM', -0.9987837672233582)\n",
      "('2024-05-29', 'MRO', 0.9996359348297119)\n",
      "('2024-05-29', 'JPM', -0.9973044395446777)\n",
      "('2024-05-29', 'NVDA', 0.9996460676193237)\n",
      "('2024-05-29', 'JPM', -0.9973044395446777)\n",
      "('2024-05-29', 'NVDA', 0.9998724460601807)\n",
      "('2024-05-29', 'ARKK', 0.9987627267837524)\n"
     ]
    }
   ],
   "source": [
    "from nlp_function import main\n",
    "url = \"https://finance.yahoo.com/\"\n",
    "db_params = (\"localhost\", \"Karol\", \"sqlserwer1\", \"projekt\")\n",
    "main(url, db_params)\n"
   ]
  },
  {
   "cell_type": "code",
   "execution_count": 2,
   "metadata": {},
   "outputs": [
    {
     "name": "stdout",
     "output_type": "stream",
     "text": [
      "MySQL Database connection successful\n",
      "(1, '2024-05-28', 'HES', 0.975063)\n",
      "(2, '2024-05-29', 'MRK', 0.998826)\n",
      "(3, '2024-05-29', 'BHP', -0.566091)\n",
      "(4, '2024-05-29', 'COP', 0.90781)\n",
      "(5, '2024-05-28', 'Which cryptocurrency name are you', 0.999802)\n",
      "(6, '2024-05-29', 'BA', -0.972982)\n",
      "(7, '2024-05-29', 'DVN', 0.999338)\n",
      "(8, '2024-05-28', 'NVDA', 0.999635)\n",
      "(9, '2024-05-29', 'AAL', -0.997776)\n",
      "(10, '2024-05-29', 'MS', 0.999569)\n",
      "(11, '2024-05-29', 'TSLA', 0.998728)\n",
      "(12, '2024-05-29', 'XOM', -0.998784)\n",
      "(13, '2024-05-29', 'MRO', 0.999636)\n",
      "(14, '2024-05-29', 'JPM', -0.997304)\n",
      "(15, '2024-05-29', 'NVDA', 0.999646)\n",
      "(16, '2024-05-29', 'JPM', -0.997304)\n",
      "(17, '2024-05-29', 'NVDA', 0.999872)\n",
      "(18, '2024-05-29', 'ARKK', 0.998763)\n",
      "No results found.\n"
     ]
    }
   ],
   "source": [
    "from data_base_function import create_db_connection,execute_query\n",
    "connection=create_db_connection(\"localhost\",\"Karol\",\"sqlserwer1\",\"projekt\")\n",
    "\n",
    "query = \"SELECT * FROM sentiment_data;\"\n",
    "results=execute_query(connection, query)\n",
    "connection.close()\n",
    "\n",
    "if results==True:\n",
    "    for row in results:\n",
    "        print(row)\n",
    "else:\n",
    "    print(\"No results found.\")"
   ]
  }
 ],
 "metadata": {
  "kernelspec": {
   "display_name": "Python 3",
   "language": "python",
   "name": "python3"
  },
  "language_info": {
   "codemirror_mode": {
    "name": "ipython",
    "version": 3
   },
   "file_extension": ".py",
   "mimetype": "text/x-python",
   "name": "python",
   "nbconvert_exporter": "python",
   "pygments_lexer": "ipython3",
   "version": "3.10.6"
  }
 },
 "nbformat": 4,
 "nbformat_minor": 2
}
